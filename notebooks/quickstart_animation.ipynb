{
 "cells": [
  {
   "cell_type": "markdown",
   "metadata": {},
   "source": [
    "# Create quickstart animation"
   ]
  },
  {
   "cell_type": "markdown",
   "metadata": {},
   "source": [
    "## Notebook setup"
   ]
  },
  {
   "cell_type": "code",
   "execution_count": null,
   "metadata": {},
   "outputs": [],
   "source": [
    "import multiprocessing\n",
    "import os\n",
    "\n",
    "os.environ[\"XLA_FLAGS\"] = (\n",
    "    f\"--xla_force_host_platform_device_count={multiprocessing.cpu_count()}\"\n",
    ")"
   ]
  },
  {
   "cell_type": "code",
   "execution_count": null,
   "metadata": {},
   "outputs": [],
   "source": [
    "# import libraries\n",
    "import pathlib\n",
    "\n",
    "import matplotlib.animation as animation\n",
    "import matplotlib.pyplot as plt\n",
    "import pandas as pd\n",
    "import seaborn as sns\n",
    "from IPython.display import HTML\n",
    "from jax import numpy as jnp\n",
    "from jax import random as jr\n",
    "from matplotlib.animation import FuncAnimation\n",
    "from tqdm import tqdm\n",
    "\n",
    "from gallifrey.data import Dataset\n",
    "from gallifrey.model import GPConfig, GPModel, unbatch_states"
   ]
  },
  {
   "cell_type": "code",
   "execution_count": null,
   "metadata": {},
   "outputs": [],
   "source": [
    "# notebook settings\n",
    "\n",
    "# making the plots pretty\n",
    "sns.set_theme(\n",
    "    context=\"poster\",\n",
    "    style=\"ticks\",\n",
    "    palette=\"rocket\",\n",
    "    font_scale=1,\n",
    "    rc={\n",
    "        \"figure.figsize\": (16, 7),\n",
    "        \"axes.grid\": False,\n",
    "        \"font.family\": \"serif\",\n",
    "        \"text.usetex\": False,\n",
    "        \"lines.linewidth\": 5,\n",
    "        # \"axes.grid\": True,\n",
    "    },\n",
    ")\n",
    "\n",
    "# setting saving defaults\n",
    "save_figures = True\n",
    "\n",
    "# set saving paths\n",
    "path = pathlib.Path.cwd().parent\n",
    "figure_directory = path / \"figures/animations/\"\n",
    "if not figure_directory.exists():\n",
    "    figure_directory.mkdir(parents=True)\n",
    "\n",
    "# set a random key for for this notebook\n",
    "rng_key = jr.PRNGKey(0)"
   ]
  },
  {
   "cell_type": "markdown",
   "metadata": {},
   "source": [
    "## Create data"
   ]
  },
  {
   "cell_type": "code",
   "execution_count": null,
   "metadata": {},
   "outputs": [],
   "source": [
    "# Mock data\n",
    "key, data_key = jr.split(rng_key)\n",
    "n = 160\n",
    "noise_var = 9.0\n",
    "x = jnp.linspace(0, 15, n)\n",
    "y = (x + 0.01) * jnp.sin(x * 3.2) + jnp.sqrt(noise_var) * jr.normal(data_key, (n,))\n",
    "\n",
    "\n",
    "# mask values\n",
    "xtrain = x[(x < 10)]\n",
    "ytrain = y[(x < 10)]"
   ]
  },
  {
   "cell_type": "markdown",
   "metadata": {},
   "source": [
    "## Initialize the GP Model"
   ]
  },
  {
   "cell_type": "code",
   "execution_count": null,
   "metadata": {},
   "outputs": [],
   "source": [
    "config = GPConfig()\n",
    "\n",
    "key, model_key = jr.split(key)\n",
    "gpmodel = GPModel(\n",
    "    model_key,\n",
    "    x=xtrain,\n",
    "    y=ytrain,\n",
    "    num_particles=8,\n",
    "    config=config,\n",
    ")"
   ]
  },
  {
   "cell_type": "code",
   "execution_count": null,
   "metadata": {},
   "outputs": [],
   "source": [
    "# load the model\n",
    "final_smc_state = gpmodel.load_state(\n",
    "    str(path / \"model_checkpoints/quickstart_example/final_state.pkl\")\n",
    ")\n",
    "history = gpmodel.load_state(\n",
    "    str(path / \"model_checkpoints/quickstart_example/history.pkl\")\n",
    ")"
   ]
  },
  {
   "cell_type": "markdown",
   "metadata": {},
   "source": [
    "## Create predictive distributions for every SMC round"
   ]
  },
  {
   "cell_type": "code",
   "execution_count": null,
   "metadata": {},
   "outputs": [],
   "source": [
    "xall = x\n",
    "xall_norm = gpmodel.x_transform(xall)"
   ]
  },
  {
   "cell_type": "code",
   "execution_count": null,
   "metadata": {},
   "outputs": [],
   "source": [
    "history_states = unbatch_states(history)\n",
    "\n",
    "means = []\n",
    "lower = []\n",
    "upper = []\n",
    "datapoints = []\n",
    "masks = []\n",
    "\n",
    "for state in tqdm(history_states):\n",
    "    gpmodel_hist = gpmodel.update_state(state)\n",
    "\n",
    "    included_datapoints = state.num_data_points\n",
    "    data_norm = Dataset(\n",
    "        x=gpmodel.x_transform(xtrain[:included_datapoints]),\n",
    "        y=gpmodel.y_transform(ytrain[:included_datapoints]),\n",
    "    )\n",
    "\n",
    "    predictive_gmm = gpmodel_hist.get_mixture_distribution(xall_norm, data=data_norm)\n",
    "    means.append(predictive_gmm.mean())\n",
    "    stddevs = predictive_gmm.stddev()\n",
    "    lower.append(predictive_gmm.mean() - stddevs)\n",
    "    upper.append(predictive_gmm.mean() + stddevs)\n",
    "    datapoints.append(included_datapoints)\n",
    "    masks.append(\n",
    "        [xall < xtrain[included_datapoints], xall >= xtrain[included_datapoints]]\n",
    "    )"
   ]
  },
  {
   "cell_type": "markdown",
   "metadata": {},
   "source": [
    "## Make animation"
   ]
  },
  {
   "cell_type": "code",
   "execution_count": null,
   "metadata": {},
   "outputs": [],
   "source": [
    "# function to plot intervals with different colors\n",
    "def plot_intervals(ax, x, mean, fill_lower, fill_upper, masks, colors):\n",
    "    last_index = 0\n",
    "    for i in range(len(masks)):\n",
    "        mask = masks[i]\n",
    "        color = colors[i]\n",
    "        # get indices of mask, add last index from previous mask for smooth plotting\n",
    "        indices = jnp.insert(jnp.where(mask)[0], 0, last_index)\n",
    "        xm = x[indices]\n",
    "        # plot means\n",
    "        ax.plot(xm, mean[indices], color=color, linewidth=3)\n",
    "        # plot stddevs\n",
    "        ax.fill_between(\n",
    "            xm,\n",
    "            fill_lower[indices],\n",
    "            fill_upper[indices],\n",
    "            color=color,\n",
    "            alpha=0.3,\n",
    "        )\n",
    "        ax.plot(xm, fill_lower[indices], color=color, linestyle=\"--\", linewidth=2)\n",
    "        ax.plot(xm, fill_upper[indices], color=color, linestyle=\"--\", linewidth=2)\n",
    "        last_index = indices[-1]  # Update last index"
   ]
  },
  {
   "cell_type": "code",
   "execution_count": null,
   "metadata": {},
   "outputs": [],
   "source": [
    "from matplotlib import font_manager\n",
    "\n",
    "# add xkcd font\n",
    "font_path = \"/home/chris/.local/share/fonts/xkcd.otf\"\n",
    "font_manager.fontManager.addfont(font_path)\n",
    "prop = font_manager.FontProperties(fname=font_path)"
   ]
  }
 ],
 "metadata": {
  "kernelspec": {
   "display_name": ".venv_jaxoplanet",
   "language": "python",
   "name": "python3"
  },
  "language_info": {
   "codemirror_mode": {
    "name": "ipython",
    "version": 3
   },
   "file_extension": ".py",
   "mimetype": "text/x-python",
   "name": "python",
   "nbconvert_exporter": "python",
   "pygments_lexer": "ipython3",
   "version": "3.10.12"
  }
 },
 "nbformat": 4,
 "nbformat_minor": 2
}
